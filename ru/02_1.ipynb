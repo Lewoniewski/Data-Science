{
 "cells": [
  {
   "cell_type": "markdown",
   "id": "83eff4af",
   "metadata": {},
   "source": [
    "# Введение в переменные в Питоне\n",
    "Этот блокнот проведет вас **шаг за шагом** по основным типам переменных в Python и продемонстрирует базовые операции с каждым из них."
   ]
  },
  {
   "cell_type": "markdown",
   "id": "805f4c46",
   "metadata": {},
   "source": [
    "## 1. Обзор типов переменных\n",
    "Переменная — это имя, указывающее на значение. Тип значения определяет, какие операции для него доступны.\n",
    "\n",
    "- **`int`** — целые числа\n",
    "- **`float`** — числа с десятичной точкой\n",
    "- **`str`** — строки (текст)\n",
    "- **`list`** — упорядоченные изменяемые коллекции\n",
    "- **`dict`** — пары «ключ → значение»"
   ]
  },
  {
   "cell_type": "code",
   "execution_count": 1,
   "id": "ceeea646",
   "metadata": {},
   "outputs": [
    {
     "data": {
      "text/plain": [
       "(10, 2.5, 'Привет', [1, 2, 3], {'язык': 'Python', 'год': 1991})"
      ]
     },
     "execution_count": 1,
     "metadata": {},
     "output_type": "execute_result"
    }
   ],
   "source": [
    "# Примеры переменных\n",
    "int_var   = 10\n",
    "float_var = 2.5\n",
    "str_var   = \"Привет\"\n",
    "list_var  = [1, 2, 3]\n",
    "dict_var  = {\"язык\": \"Python\", \"год\": 1991}\n",
    "\n",
    "int_var, float_var, str_var, list_var, dict_var"
   ]
  },
  {
   "cell_type": "markdown",
   "id": "3c0d8377",
   "metadata": {},
   "source": [
    "## 2. Целые числа и числа с плавающей точкой"
   ]
  },
  {
   "cell_type": "code",
   "execution_count": 2,
   "id": "1dc3dd71",
   "metadata": {},
   "outputs": [
    {
     "name": "stdout",
     "output_type": "stream",
     "text": [
      "Сложение: 9\n",
      "Вычитание: 5\n",
      "Умножение: 14\n",
      "Деление: 3.5\n",
      "int + float = 8.5\n"
     ]
    }
   ],
   "source": [
    "a, b = 7, 2\n",
    "print('Сложение:', a + b)\n",
    "print('Вычитание:', a - b)\n",
    "print('Умножение:', a * b)\n",
    "print('Деление:', a / b)\n",
    "c = 1.5\n",
    "print('int + float =', a + c)"
   ]
  },
  {
   "cell_type": "markdown",
   "id": "31a1d825",
   "metadata": {},
   "source": [
    "## 3. Строки"
   ]
  },
  {
   "cell_type": "code",
   "execution_count": 3,
   "id": "a84ac335",
   "metadata": {},
   "outputs": [
    {
     "data": {
      "text/plain": [
       "('А', ' ми', 'Привет, мир! Алиса')"
      ]
     },
     "execution_count": 3,
     "metadata": {},
     "output_type": "execute_result"
    }
   ],
   "source": [
    "name = \"Алиса\"\n",
    "greeting = \"Привет, мир!\"\n",
    "first_letter = name[0]\n",
    "word = greeting[7:10]\n",
    "full_greeting = greeting + ' ' + name\n",
    "first_letter, word, full_greeting"
   ]
  },
  {
   "cell_type": "markdown",
   "id": "4c0cb4bb",
   "metadata": {},
   "source": [
    "## 4. Списки"
   ]
  },
  {
   "cell_type": "code",
   "execution_count": 4,
   "id": "34ed9a07",
   "metadata": {},
   "outputs": [
    {
     "data": {
      "text/plain": [
       "([10, 99, 40, 50], [99, 40], 4)"
      ]
     },
     "execution_count": 4,
     "metadata": {},
     "output_type": "execute_result"
    }
   ],
   "source": [
    "numbers = [10, 20, 30, 40]\n",
    "numbers[2] = 99\n",
    "numbers.append(50)\n",
    "numbers.remove(20)\n",
    "slice_numbers = numbers[1:3]\n",
    "len_numbers = len(numbers)\n",
    "numbers, slice_numbers, len_numbers"
   ]
  },
  {
   "cell_type": "markdown",
   "id": "4f363f6c",
   "metadata": {},
   "source": [
    "## 5. Словари"
   ]
  },
  {
   "cell_type": "code",
   "execution_count": 5,
   "id": "f73a239d",
   "metadata": {},
   "outputs": [
    {
     "data": {
      "text/plain": [
       "('Bob', {'name': 'Bob', 'city': 'London'}, ['name', 'city'], ['Bob', 'London'])"
      ]
     },
     "execution_count": 5,
     "metadata": {},
     "output_type": "execute_result"
    }
   ],
   "source": [
    "person = {'name': 'Bob', 'age': 30}\n",
    "name_val = person['name']\n",
    "person['city'] = 'London'\n",
    "del person['age']\n",
    "keys = list(person.keys())\n",
    "values = list(person.values())\n",
    "name_val, person, keys, values"
   ]
  },
  {
   "cell_type": "markdown",
   "id": "56d2d023",
   "metadata": {},
   "source": [
    "## 6. Обращение к отдельным элементам"
   ]
  },
  {
   "cell_type": "code",
   "execution_count": 6,
   "id": "ba2191b0",
   "metadata": {},
   "outputs": [
    {
     "data": {
      "text/plain": [
       "('П', 'синий', 10)"
      ]
     },
     "execution_count": 6,
     "metadata": {},
     "output_type": "execute_result"
    }
   ],
   "source": [
    "city = 'Познань'\n",
    "colors = ['красный', 'зелёный', 'синий']\n",
    "stats = {'wins': 10, 'losses': 2}\n",
    "city[0], colors[2], stats['wins']"
   ]
  },
  {
   "cell_type": "markdown",
   "id": "6995a8cd",
   "metadata": {},
   "source": [
    "## 7. Упражнения для практики\n",
    "1. Создайте переменные каждого типа.\n",
    "2. Произведите со списком как минимум три операции (добавить, заменить, удалить).\n",
    "3. Добавьте новый ключ в словарь и удалите существующий.\n",
    "4. Извлеките подстроку из строки.\n"
   ]
  }
 ],
 "metadata": {
  "kernelspec": {
   "display_name": "Python 3 (ipykernel)",
   "language": "python",
   "name": "python3"
  },
  "language_info": {
   "codemirror_mode": {
    "name": "ipython",
    "version": 3
   },
   "file_extension": ".py",
   "mimetype": "text/x-python",
   "name": "python",
   "nbconvert_exporter": "python",
   "pygments_lexer": "ipython3",
   "version": "3.12.10"
  }
 },
 "nbformat": 4,
 "nbformat_minor": 5
}
