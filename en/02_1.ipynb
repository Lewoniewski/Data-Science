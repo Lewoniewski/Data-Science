{
 "cells": [
  {
   "cell_type": "markdown",
   "id": "a60635e4",
   "metadata": {},
   "source": [
    "# Introduction to Variables in Python\n",
    "This Jupyter notebook walks you **step by step** through Python's basic variable types and common operations."
   ]
  },
  {
   "cell_type": "markdown",
   "id": "63edd392",
   "metadata": {},
   "source": [
    "## 1. Variable Types Overview\n",
    "Variables are names that refer to values. The value’s **type** determines what you can do with it.\n",
    "\n",
    "- **`int`** – integers (whole numbers)\n",
    "- **`float`** – numbers with decimal points\n",
    "- **`str`** – strings (text)\n",
    "- **`list`** – ordered collections (mutable)\n",
    "- **`dict`** – key–value mappings (mutable)"
   ]
  },
  {
   "cell_type": "code",
   "execution_count": 1,
   "id": "cca24427",
   "metadata": {},
   "outputs": [
    {
     "data": {
      "text/plain": [
       "(10, 2.75, 'hello', [1, 2, 3], {'language': 'Python', 'year': 1991})"
      ]
     },
     "execution_count": 1,
     "metadata": {},
     "output_type": "execute_result"
    }
   ],
   "source": [
    "# Example variables of each type\n",
    "int_var   = 10\n",
    "float_var = 2.75\n",
    "str_var   = \"hello\"\n",
    "list_var  = [1, 2, 3]\n",
    "dict_var  = {\"language\": \"Python\", \"year\": 1991}\n",
    "\n",
    "int_var, float_var, str_var, list_var, dict_var"
   ]
  },
  {
   "cell_type": "markdown",
   "id": "fd25075f",
   "metadata": {},
   "source": [
    "## 2. Integers and Floats\n",
    "Use integers for whole numbers and floats for decimals."
   ]
  },
  {
   "cell_type": "code",
   "execution_count": 2,
   "id": "26d482db",
   "metadata": {},
   "outputs": [
    {
     "name": "stdout",
     "output_type": "stream",
     "text": [
      "Addition: 8\n",
      "Subtraction: 2\n",
      "Multiplication: 15\n",
      "Division: 1.6666666666666667\n",
      "Int + Float: 6.5\n"
     ]
    }
   ],
   "source": [
    "# Basic arithmetic\n",
    "a, b = 5, 3\n",
    "print('Addition:', a + b)\n",
    "print('Subtraction:', a - b)\n",
    "print('Multiplication:', a * b)\n",
    "print('Division:', a / b)\n",
    "\n",
    "# Mixing int and float\n",
    "c = 1.5\n",
    "print('Int + Float:', a + c)"
   ]
  },
  {
   "cell_type": "markdown",
   "id": "972ddd30",
   "metadata": {},
   "source": [
    "## 3. Strings (`str`)\n",
    "Strings are sequences of characters and are **immutable**."
   ]
  },
  {
   "cell_type": "code",
   "execution_count": 3,
   "id": "e125a37e",
   "metadata": {},
   "outputs": [
    {
     "data": {
      "text/plain": [
       "('A', 'World', 'Hello, World! Alice')"
      ]
     },
     "execution_count": 3,
     "metadata": {},
     "output_type": "execute_result"
    }
   ],
   "source": [
    "name = \"Alice\"\n",
    "greeting = \"Hello, World!\"\n",
    "\n",
    "# Indexing and slicing\n",
    "first_letter = name[0]\n",
    "world = greeting[7:12]\n",
    "\n",
    "# Concatenation\n",
    "full_greeting = greeting + \" \" + name\n",
    "\n",
    "first_letter, world, full_greeting"
   ]
  },
  {
   "cell_type": "markdown",
   "id": "36bd5b1c",
   "metadata": {},
   "source": [
    "## 4. Lists (`list`)\n",
    "Lists are ordered, mutable collections."
   ]
  },
  {
   "cell_type": "code",
   "execution_count": 4,
   "id": "5667a990",
   "metadata": {},
   "outputs": [
    {
     "name": "stdout",
     "output_type": "stream",
     "text": [
      "Original: [10, 20, 30, 40]\n"
     ]
    },
    {
     "data": {
      "text/plain": [
       "([10, 99, 40, 50], [99, 40], 4)"
      ]
     },
     "execution_count": 4,
     "metadata": {},
     "output_type": "execute_result"
    }
   ],
   "source": [
    "numbers = [10, 20, 30, 40]\n",
    "print('Original:', numbers)\n",
    "\n",
    "# Access and modify\n",
    "numbers[2] = 99\n",
    "\n",
    "# Append and remove\n",
    "numbers.append(50)\n",
    "numbers.remove(20)\n",
    "\n",
    "# Slice and length\n",
    "slice_numbers = numbers[1:3]\n",
    "length = len(numbers)\n",
    "\n",
    "numbers, slice_numbers, length"
   ]
  },
  {
   "cell_type": "markdown",
   "id": "f90160cf",
   "metadata": {},
   "source": [
    "## 5. Dictionaries (`dict`)\n",
    "Dictionaries store data as key–value pairs."
   ]
  },
  {
   "cell_type": "code",
   "execution_count": 5,
   "id": "2b3a5c34",
   "metadata": {},
   "outputs": [
    {
     "data": {
      "text/plain": [
       "('Bob', {'name': 'Bob', 'city': 'London'}, ['name', 'city'], ['Bob', 'London'])"
      ]
     },
     "execution_count": 5,
     "metadata": {},
     "output_type": "execute_result"
    }
   ],
   "source": [
    "person = {\"name\": \"Bob\", \"age\": 30}\n",
    "\n",
    "# Access, add/update, delete\n",
    "name_value = person['name']\n",
    "person['city'] = 'London'\n",
    "del person['age']\n",
    "\n",
    "# Keys and values\n",
    "keys = list(person.keys())\n",
    "values = list(person.values())\n",
    "\n",
    "name_value, person, keys, values"
   ]
  },
  {
   "cell_type": "markdown",
   "id": "a67015bb",
   "metadata": {},
   "source": [
    "## 6. Referencing Elements Recap\n",
    "- **Strings**: `text[0]`\n",
    "- **Lists**: `items[2]`\n",
    "- **Dicts**: `mapping['key']`"
   ]
  },
  {
   "cell_type": "code",
   "execution_count": 6,
   "id": "4dec668b",
   "metadata": {},
   "outputs": [
    {
     "data": {
      "text/plain": [
       "('L', 'blue', 10)"
      ]
     },
     "execution_count": 6,
     "metadata": {},
     "output_type": "execute_result"
    }
   ],
   "source": [
    "city = \"London\"\n",
    "colors = ['red', 'green', 'blue']\n",
    "stats = {'wins': 10, 'losses': 2}\n",
    "\n",
    "first_char = city[0]\n",
    "third_color = colors[2]\n",
    "wins = stats['wins']\n",
    "\n",
    "first_char, third_color, wins"
   ]
  },
  {
   "cell_type": "markdown",
   "id": "f1da8c66",
   "metadata": {},
   "source": [
    "## 7. Practice\n",
    "1. Create your own variables of each type.\n",
    "2. Try adding and removing items in a list.\n",
    "3. Add a new key to a dictionary and delete another key.\n",
    "4. Slice a string to extract a word."
   ]
  },
  {
   "cell_type": "markdown",
   "id": "8db1434a",
   "metadata": {},
   "source": [
    "## 8. Conclusion\n",
    "Understanding the basic variable types in Python lets you manipulate data effectively. Experiment with these examples and extend them to build your skills."
   ]
  }
 ],
 "metadata": {
  "kernelspec": {
   "display_name": "Python 3 (ipykernel)",
   "language": "python",
   "name": "python3"
  },
  "language_info": {
   "codemirror_mode": {
    "name": "ipython",
    "version": 3
   },
   "file_extension": ".py",
   "mimetype": "text/x-python",
   "name": "python",
   "nbconvert_exporter": "python",
   "pygments_lexer": "ipython3",
   "version": "3.12.10"
  }
 },
 "nbformat": 4,
 "nbformat_minor": 5
}
