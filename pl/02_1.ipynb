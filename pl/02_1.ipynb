{
 "cells": [
  {
   "cell_type": "markdown",
   "id": "092a4bc3",
   "metadata": {},
   "source": [
    "# Wprowadzenie do zmiennych w Pythonie\n",
    "Ten notebook przeprowadzi Cię krok po kroku przez podstawowe typy zmiennych w Pythonie oraz pokaże, jak wykonywać na nich proste operacje."
   ]
  },
  {
   "cell_type": "markdown",
   "id": "7cdb477c",
   "metadata": {},
   "source": [
    "## Zmienne i typy danych\n",
    "Zmienne działają jak pojemniki na dane. Najpopularniejsze typy:\n",
    "- **int** – liczby całkowite\n",
    "- **float** – liczby zmiennoprzecinkowe\n",
    "- **str** – ciągi znaków (teksty)\n",
    "- **list** – uporządkowane kolekcje elementów\n",
    "- **dict** – kolekcje par klucz–wartość"
   ]
  },
  {
   "cell_type": "code",
   "execution_count": 1,
   "id": "e3a0946d",
   "metadata": {},
   "outputs": [
    {
     "data": {
      "text/plain": [
       "(10, 3.14, 'Python', [1, 2, 3, 4, 5], {'klucz': 'wartość', 'rok': 2025})"
      ]
     },
     "execution_count": 1,
     "metadata": {},
     "output_type": "execute_result"
    }
   ],
   "source": [
    "# Definicja przykładowych zmiennych\n",
    "int_var = 10\n",
    "float_var = 3.14\n",
    "str_var = \"Python\"\n",
    "list_var = [1, 2, 3, 4, 5]\n",
    "dict_var = {\"klucz\": \"wartość\", \"rok\": 2025}\n",
    "\n",
    "int_var, float_var, str_var, list_var, dict_var"
   ]
  },
  {
   "cell_type": "markdown",
   "id": "1d6bca2d",
   "metadata": {},
   "source": [
    "## Operacje na liczbach całkowitych i zmiennoprzecinkowych"
   ]
  },
  {
   "cell_type": "code",
   "execution_count": 2,
   "id": "8b2d3490",
   "metadata": {},
   "outputs": [
    {
     "name": "stdout",
     "output_type": "stream",
     "text": [
      "Dodawanie: 8\n",
      "Odejmowanie: 2\n",
      "Mnożenie: 15\n",
      "Dzielenie: 1.6666666666666667\n"
     ]
    }
   ],
   "source": [
    "# Podstawowe działania arytmetyczne\n",
    "a = 5\n",
    "b = 3\n",
    "print('Dodawanie:', a + b)\n",
    "print('Odejmowanie:', a - b)\n",
    "print('Mnożenie:', a * b)\n",
    "print('Dzielenie:', a / b)"
   ]
  },
  {
   "cell_type": "markdown",
   "id": "34e3ff6d",
   "metadata": {},
   "source": [
    "## Ciągi znaków (str)"
   ]
  },
  {
   "cell_type": "code",
   "execution_count": 3,
   "id": "0080a7f2",
   "metadata": {},
   "outputs": [
    {
     "name": "stdout",
     "output_type": "stream",
     "text": [
      "Pierwsza litera: P\n",
      "Druga litera: y\n"
     ]
    }
   ],
   "source": [
    "slowo = \"Python\"\n",
    "print('Pierwsza litera:', slowo[0])\n",
    "print('Druga litera:', slowo[1])\n",
    "# slowo[0] = 'J'  # <- odkomentuj, aby zobaczyć błąd (ciągi są niezmienne)"
   ]
  },
  {
   "cell_type": "markdown",
   "id": "e6711aa7",
   "metadata": {},
   "source": [
    "## Listy (list)"
   ]
  },
  {
   "cell_type": "code",
   "execution_count": 4,
   "id": "b58a895b",
   "metadata": {},
   "outputs": [
    {
     "name": "stdout",
     "output_type": "stream",
     "text": [
      "Oryginalna lista: ['autobus', 'pociąg', 'samolot']\n",
      "Po dodaniu: ['autobus', 'pociąg', 'samolot', 'rower']\n",
      "Po usunięciu: ['autobus', 'pociąg', 'rower']\n",
      "Pierwsze dwa: ['autobus', 'pociąg']\n",
      "Liczba elementów: 3\n"
     ]
    }
   ],
   "source": [
    "typy_transportu = ['autobus', 'pociąg', 'samolot']\n",
    "print('Oryginalna lista:', typy_transportu)\n",
    "\n",
    "# Dodawanie elementu\n",
    "typy_transportu.append('rower')\n",
    "print('Po dodaniu:', typy_transportu)\n",
    "\n",
    "# Usuwanie elementu\n",
    "typy_transportu.remove('samolot')\n",
    "print('Po usunięciu:', typy_transportu)\n",
    "\n",
    "# Wycinanie fragmentu\n",
    "print('Pierwsze dwa:', typy_transportu[0:2])\n",
    "\n",
    "# Długość listy\n",
    "print('Liczba elementów:', len(typy_transportu))"
   ]
  },
  {
   "cell_type": "markdown",
   "id": "aa20da45",
   "metadata": {},
   "source": [
    "## Słowniki (dict)"
   ]
  },
  {
   "cell_type": "code",
   "execution_count": 5,
   "id": "dd5e2b4b",
   "metadata": {},
   "outputs": [
    {
     "name": "stdout",
     "output_type": "stream",
     "text": [
      "Słownik: {'autobus': 35, 'pociąg': 120, 'samolot': 300}\n",
      "Pasażerowie w autobusie: 35\n",
      "Po dodaniu statku: {'autobus': 35, 'pociąg': 120, 'samolot': 300, 'statek': 1000}\n",
      "Po usunięciu samolotu: {'autobus': 35, 'pociąg': 120, 'statek': 1000}\n",
      "Klucze: ['autobus', 'pociąg', 'statek']\n",
      "Wartości: [35, 120, 1000]\n"
     ]
    }
   ],
   "source": [
    "transport = {'autobus': 35, 'pociąg': 120, 'samolot': 300}\n",
    "print('Słownik:', transport)\n",
    "\n",
    "# Dostęp do wartości\n",
    "print('Pasażerowie w autobusie:', transport['autobus'])\n",
    "\n",
    "# Dodanie / aktualizacja\n",
    "transport['statek'] = 1000\n",
    "print('Po dodaniu statku:', transport)\n",
    "\n",
    "# Usunięcie\n",
    "del transport['samolot']\n",
    "print('Po usunięciu samolotu:', transport)\n",
    "\n",
    "# Klucze i wartości\n",
    "print('Klucze:', list(transport.keys()))\n",
    "print('Wartości:', list(transport.values()))"
   ]
  },
  {
   "cell_type": "markdown",
   "id": "f4f62821",
   "metadata": {},
   "source": [
    "## Podsumowanie\n",
    "- Typ zmiennej określa, jakie operacje są dla niej dostępne.\n",
    "- Ćwicz tworzenie i modyfikowanie własnych zmiennych, aby lepiej zrozumieć, jak one działają."
   ]
  }
 ],
 "metadata": {
  "kernelspec": {
   "display_name": "Python 3 (ipykernel)",
   "language": "python",
   "name": "python3"
  },
  "language_info": {
   "codemirror_mode": {
    "name": "ipython",
    "version": 3
   },
   "file_extension": ".py",
   "mimetype": "text/x-python",
   "name": "python",
   "nbconvert_exporter": "python",
   "pygments_lexer": "ipython3",
   "version": "3.12.10"
  }
 },
 "nbformat": 4,
 "nbformat_minor": 5
}
